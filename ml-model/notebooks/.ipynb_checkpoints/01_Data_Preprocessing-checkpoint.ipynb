{
 "cells": [
  {
   "cell_type": "code",
   "execution_count": 52,
   "id": "8e72277e-4a46-4946-8261-710e06901263",
   "metadata": {},
   "outputs": [
    {
     "name": "stdout",
     "output_type": "stream",
     "text": [
      "               Name  Age Marital Status    Education Level  \\\n",
      "0  Christine Barker   31        Married  Bachelor's Degree   \n",
      "1  Jacqueline Lewis   55        Married        High School   \n",
      "2    Shannon Church   78        Widowed    Master's Degree   \n",
      "3    Charles Jordan   58       Divorced    Master's Degree   \n",
      "4      Michael Rich   18         Single        High School   \n",
      "\n",
      "   Number of Children Smoking Status Physical Activity Level  \\\n",
      "0                   2     Non-smoker                  Active   \n",
      "1                   1     Non-smoker               Sedentary   \n",
      "2                   1     Non-smoker               Sedentary   \n",
      "3                   3     Non-smoker                Moderate   \n",
      "4                   0     Non-smoker               Sedentary   \n",
      "\n",
      "  Employment Status     Income Alcohol Consumption Dietary Habits  \\\n",
      "0        Unemployed   26265.67            Moderate       Moderate   \n",
      "1          Employed   42710.36                High      Unhealthy   \n",
      "2          Employed  125332.79                 Low      Unhealthy   \n",
      "3        Unemployed    9992.78            Moderate       Moderate   \n",
      "4        Unemployed    8595.08                 Low       Moderate   \n",
      "\n",
      "  Sleep Patterns History of Mental Illness History of Substance Abuse  \\\n",
      "0           Fair                       Yes                         No   \n",
      "1           Fair                       Yes                         No   \n",
      "2           Good                        No                         No   \n",
      "3           Poor                        No                         No   \n",
      "4           Fair                       Yes                         No   \n",
      "\n",
      "  Family History of Depression Chronic Medical Conditions  \n",
      "0                          Yes                        Yes  \n",
      "1                           No                        Yes  \n",
      "2                          Yes                         No  \n",
      "3                           No                         No  \n",
      "4                          Yes                        Yes  \n"
     ]
    }
   ],
   "source": [
    "import pandas as pd \n",
    "data = pd.read_csv('../data/depression_data.csv')\n",
    "print(data.head())"
   ]
  },
  {
   "cell_type": "markdown",
   "id": "25d9c432-8b56-46d7-81a9-8c03c376e159",
   "metadata": {},
   "source": [
    "Explore the data set. check the missing values, data types"
   ]
  },
  {
   "cell_type": "code",
   "execution_count": 53,
   "id": "996b6ac5-fb71-4f2d-b70a-1602b6b2645b",
   "metadata": {},
   "outputs": [
    {
     "name": "stdout",
     "output_type": "stream",
     "text": [
      "Name                            0\n",
      "Age                             0\n",
      "Marital Status                  0\n",
      "Education Level                 0\n",
      "Number of Children              0\n",
      "Smoking Status                  0\n",
      "Physical Activity Level         0\n",
      "Employment Status               0\n",
      "Income                          0\n",
      "Alcohol Consumption             0\n",
      "Dietary Habits                  0\n",
      "Sleep Patterns                  0\n",
      "History of Mental Illness       0\n",
      "History of Substance Abuse      0\n",
      "Family History of Depression    0\n",
      "Chronic Medical Conditions      0\n",
      "dtype: int64\n",
      "Name                             object\n",
      "Age                               int64\n",
      "Marital Status                   object\n",
      "Education Level                  object\n",
      "Number of Children                int64\n",
      "Smoking Status                   object\n",
      "Physical Activity Level          object\n",
      "Employment Status                object\n",
      "Income                          float64\n",
      "Alcohol Consumption              object\n",
      "Dietary Habits                   object\n",
      "Sleep Patterns                   object\n",
      "History of Mental Illness        object\n",
      "History of Substance Abuse       object\n",
      "Family History of Depression     object\n",
      "Chronic Medical Conditions       object\n",
      "dtype: object\n"
     ]
    }
   ],
   "source": [
    "print(data.isnull().sum())\n",
    "print(data.dtypes)"
   ]
  },
  {
   "cell_type": "markdown",
   "id": "bc34330d-5fb3-440b-83a8-f59780c9d968",
   "metadata": {},
   "source": [
    "identify the categorical columns "
   ]
  },
  {
   "cell_type": "code",
   "execution_count": 54,
   "id": "cb0af75b-effd-4cd0-b53a-cf95fe37edb9",
   "metadata": {},
   "outputs": [
    {
     "name": "stdout",
     "output_type": "stream",
     "text": [
      "Index(['Name', 'Marital Status', 'Education Level', 'Smoking Status',\n",
      "       'Physical Activity Level', 'Employment Status', 'Alcohol Consumption',\n",
      "       'Dietary Habits', 'Sleep Patterns', 'History of Mental Illness',\n",
      "       'History of Substance Abuse', 'Family History of Depression',\n",
      "       'Chronic Medical Conditions'],\n",
      "      dtype='object')\n"
     ]
    }
   ],
   "source": [
    "categorical_columns = data.select_dtypes(include=['object']).columns\n",
    "print(categorical_columns)"
   ]
  },
  {
   "cell_type": "code",
   "execution_count": 44,
   "id": "70095d30-ab46-4eb8-8f40-431accf954cb",
   "metadata": {},
   "outputs": [],
   "source": [
    "import pandas as pd\n",
    "\n",
    "# Define column names\n",
    "column_names = [\n",
    "    'History of Mental Illness', 'History of Substance Abuse', \n",
    "    'Family History of Depression', 'Chronic Medical Conditions', \n",
    "    # Add other column names here\n",
    "]\n",
    "\n",
    "# Load the dataset with explicit column names\n",
    "data = pd.read_csv('../data/depression_data.csv', names=column_names, header=0)"
   ]
  },
  {
   "cell_type": "code",
   "execution_count": 55,
   "id": "5785c9d6-306e-4572-8ae5-a99854fecbbe",
   "metadata": {},
   "outputs": [
    {
     "name": "stdout",
     "output_type": "stream",
     "text": [
      "Name                            0\n",
      "Age                             0\n",
      "Marital Status                  0\n",
      "Education Level                 0\n",
      "Number of Children              0\n",
      "Smoking Status                  0\n",
      "Physical Activity Level         0\n",
      "Employment Status               0\n",
      "Income                          0\n",
      "Alcohol Consumption             0\n",
      "Dietary Habits                  0\n",
      "Sleep Patterns                  0\n",
      "History of Mental Illness       0\n",
      "History of Substance Abuse      0\n",
      "Family History of Depression    0\n",
      "Chronic Medical Conditions      0\n",
      "dtype: int64\n",
      "Name                             object\n",
      "Age                               int64\n",
      "Marital Status                   object\n",
      "Education Level                  object\n",
      "Number of Children                int64\n",
      "Smoking Status                   object\n",
      "Physical Activity Level          object\n",
      "Employment Status                object\n",
      "Income                          float64\n",
      "Alcohol Consumption              object\n",
      "Dietary Habits                   object\n",
      "Sleep Patterns                   object\n",
      "History of Mental Illness        object\n",
      "History of Substance Abuse       object\n",
      "Family History of Depression     object\n",
      "Chronic Medical Conditions       object\n",
      "dtype: object\n"
     ]
    }
   ],
   "source": [
    "print(data.isnull().sum())\n",
    "print(data.dtypes)"
   ]
  },
  {
   "cell_type": "code",
   "execution_count": 56,
   "id": "391fdf14-cd37-44a8-a390-887b2e3d08b9",
   "metadata": {},
   "outputs": [],
   "source": [
    "binary_columns = ['History of Mental Illness', 'History of Substance Abuse', \n",
    "                  'Family History of Depression', 'Chronic Medical Conditions']\n",
    "for col in binary_columns:\n",
    "    data[col] = data[col].map({'Yes': 1, 'No': 0})"
   ]
  },
  {
   "cell_type": "code",
   "execution_count": 57,
   "id": "195401e9-e9ed-4aca-91f4-9e59c3fc5dc8",
   "metadata": {},
   "outputs": [
    {
     "name": "stdout",
     "output_type": "stream",
     "text": [
      "Unique values in History of Mental Illness: [1 0]\n",
      "Unique values in History of Substance Abuse: [0 1]\n",
      "Unique values in Family History of Depression: [1 0]\n",
      "Unique values in Chronic Medical Conditions: [1 0]\n"
     ]
    }
   ],
   "source": [
    "for col in binary_columns:\n",
    "    print(f\"Unique values in {col}: {data[col].unique()}\")"
   ]
  },
  {
   "cell_type": "code",
   "execution_count": 58,
   "id": "57ebf9db-de91-4a55-8b5b-82de2f736227",
   "metadata": {},
   "outputs": [
    {
     "name": "stdout",
     "output_type": "stream",
     "text": [
      "Name                             object\n",
      "Age                               int64\n",
      "Marital Status                   object\n",
      "Education Level                  object\n",
      "Number of Children                int64\n",
      "Smoking Status                   object\n",
      "Physical Activity Level          object\n",
      "Employment Status                object\n",
      "Income                          float64\n",
      "Alcohol Consumption              object\n",
      "Dietary Habits                   object\n",
      "Sleep Patterns                   object\n",
      "History of Mental Illness         int64\n",
      "History of Substance Abuse        int64\n",
      "Family History of Depression      int64\n",
      "Chronic Medical Conditions        int64\n",
      "dtype: object\n"
     ]
    }
   ],
   "source": [
    "print(data.dtypes)"
   ]
  },
  {
   "cell_type": "markdown",
   "id": "6b2e2da7-58e0-43ae-b9ae-9b114832532b",
   "metadata": {},
   "source": [
    "Handel Ordinary variables"
   ]
  },
  {
   "cell_type": "code",
   "execution_count": 59,
   "id": "685d18f3-0acc-4c46-803c-8085e68dd9a7",
   "metadata": {},
   "outputs": [],
   "source": [
    "activity_mapping = {'Sedentary' : 0 , 'Moderate' : 1 , 'Active' :2}\n",
    "data['Physical Activity Level'] = data['Physical Activity Level'].map(activity_mapping)"
   ]
  },
  {
   "cell_type": "code",
   "execution_count": 60,
   "id": "baf4d022-603b-4c1b-afdc-d9e458913feb",
   "metadata": {},
   "outputs": [
    {
     "data": {
      "text/plain": [
       "Physical Activity Level\n",
       "0    176850\n",
       "1    158013\n",
       "2     78905\n",
       "Name: count, dtype: int64"
      ]
     },
     "execution_count": 60,
     "metadata": {},
     "output_type": "execute_result"
    }
   ],
   "source": [
    "data['Physical Activity Level'].value_counts()"
   ]
  },
  {
   "cell_type": "code",
   "execution_count": 61,
   "id": "d2a94b8e-de30-4e02-a2dc-1a10e402aa56",
   "metadata": {},
   "outputs": [],
   "source": [
    "employment_mapping = {'Unemployed' :0 , 'Employed':1}\n",
    "data['Employment Status'] = data['Employment Status'].map(employment_mapping)"
   ]
  },
  {
   "cell_type": "code",
   "execution_count": 62,
   "id": "de03964f-d460-4a82-ab63-02154e627654",
   "metadata": {},
   "outputs": [],
   "source": [
    "sleep_mapping = {'Poor' :0 , 'Fair':1 , 'Good':2}\n",
    "data['Sleep Patterns'] = data['Sleep Patterns'].map(sleep_mapping)"
   ]
  },
  {
   "cell_type": "code",
   "execution_count": 63,
   "id": "5d24c4d2-709e-4988-8022-53a57675529a",
   "metadata": {},
   "outputs": [],
   "source": [
    "dietry_mapping = {'Unhealthy':0 , 'Moderate':1 , 'Healthy':2}\n",
    "data['Dietary Habits'] = data['Dietary Habits'].map(dietry_mapping)"
   ]
  },
  {
   "cell_type": "code",
   "execution_count": 64,
   "id": "e2fb99b0-ec1b-4e88-813d-f1b753d2bf24",
   "metadata": {},
   "outputs": [],
   "source": [
    "alcohol_mapping = {'Low':0 , 'Moderate':1, 'High':2}\n",
    "data['Alcohol Consumption'] = data['Alcohol Consumption'].map(alcohol_mapping)"
   ]
  },
  {
   "cell_type": "markdown",
   "id": "ce3b12b0-0824-4d56-a96d-6a66a67f7a79",
   "metadata": {},
   "source": [
    "one-hot encoding "
   ]
  },
  {
   "cell_type": "code",
   "execution_count": 65,
   "id": "fef3ab43-4d72-493e-a9e5-7d36b14163a8",
   "metadata": {},
   "outputs": [],
   "source": [
    "data = pd.get_dummies(data,columns=['Marital Status', 'Education Level', 'Smoking Status'], prefix=['Marital', 'Education', 'Smoking'],drop_first=True)"
   ]
  },
  {
   "cell_type": "markdown",
   "id": "5356684d-fcf3-4ff1-b402-4123f5ebefb2",
   "metadata": {},
   "source": [
    "drop the irrelevant column"
   ]
  },
  {
   "cell_type": "code",
   "execution_count": 66,
   "id": "6c947f53-9ef8-48a6-b2b1-537a846fcc55",
   "metadata": {},
   "outputs": [
    {
     "name": "stdout",
     "output_type": "stream",
     "text": [
      "<bound method NDFrame.head of                     Name  Age  Number of Children  Physical Activity Level  \\\n",
      "0       Christine Barker   31                   2                        2   \n",
      "1       Jacqueline Lewis   55                   1                        0   \n",
      "2         Shannon Church   78                   1                        0   \n",
      "3         Charles Jordan   58                   3                        1   \n",
      "4           Michael Rich   18                   0                        0   \n",
      "...                  ...  ...                 ...                      ...   \n",
      "413763       Sean Miller   68                   0                        1   \n",
      "413764   Christina Brown   26                   0                        2   \n",
      "413765   Matthew Jenkins   57                   0                        0   \n",
      "413766     Gary Faulkner   71                   2                        0   \n",
      "413767    Joseph Johnson   62                   0                        1   \n",
      "\n",
      "        Employment Status     Income  Alcohol Consumption  Dietary Habits  \\\n",
      "0                       0   26265.67                    1               1   \n",
      "1                       1   42710.36                    2               0   \n",
      "2                       1  125332.79                    0               0   \n",
      "3                       0    9992.78                    1               1   \n",
      "4                       0    8595.08                    0               1   \n",
      "...                   ...        ...                  ...             ...   \n",
      "413763                  1  109233.43                    0               2   \n",
      "413764                  1   96760.97                    0               2   \n",
      "413765                  1   77353.26                    1               1   \n",
      "413766                  0   24557.08                    1               1   \n",
      "413767                  1  107125.74                    1               2   \n",
      "\n",
      "        Sleep Patterns  History of Mental Illness  ...  \\\n",
      "0                    1                          1  ...   \n",
      "1                    1                          1  ...   \n",
      "2                    2                          0  ...   \n",
      "3                    0                          0  ...   \n",
      "4                    1                          1  ...   \n",
      "...                ...                        ...  ...   \n",
      "413763               2                          0  ...   \n",
      "413764               0                          1  ...   \n",
      "413765               1                          0  ...   \n",
      "413766               0                          0  ...   \n",
      "413767               2                          0  ...   \n",
      "\n",
      "        Chronic Medical Conditions  Marital_Married  Marital_Single  \\\n",
      "0                                1             True           False   \n",
      "1                                1             True           False   \n",
      "2                                0            False           False   \n",
      "3                                0            False           False   \n",
      "4                                1            False            True   \n",
      "...                            ...              ...             ...   \n",
      "413763                           0             True           False   \n",
      "413764                           1            False            True   \n",
      "413765                           1             True           False   \n",
      "413766                           0             True           False   \n",
      "413767                           0            False           False   \n",
      "\n",
      "        Marital_Widowed  Education_Bachelor's Degree  Education_High School  \\\n",
      "0                 False                         True                  False   \n",
      "1                 False                        False                   True   \n",
      "2                  True                        False                  False   \n",
      "3                 False                        False                  False   \n",
      "4                 False                        False                   True   \n",
      "...                 ...                          ...                    ...   \n",
      "413763            False                        False                  False   \n",
      "413764            False                         True                  False   \n",
      "413765            False                         True                  False   \n",
      "413766            False                        False                  False   \n",
      "413767             True                        False                  False   \n",
      "\n",
      "        Education_Master's Degree  Education_PhD  Smoking_Former  \\\n",
      "0                           False          False           False   \n",
      "1                           False          False           False   \n",
      "2                            True          False           False   \n",
      "3                            True          False           False   \n",
      "4                           False          False           False   \n",
      "...                           ...            ...             ...   \n",
      "413763                       True          False            True   \n",
      "413764                      False          False           False   \n",
      "413765                      False          False           False   \n",
      "413766                      False          False           False   \n",
      "413767                       True          False            True   \n",
      "\n",
      "        Smoking_Non-smoker  \n",
      "0                     True  \n",
      "1                     True  \n",
      "2                     True  \n",
      "3                     True  \n",
      "4                     True  \n",
      "...                    ...  \n",
      "413763               False  \n",
      "413764               False  \n",
      "413765                True  \n",
      "413766                True  \n",
      "413767               False  \n",
      "\n",
      "[413768 rows x 22 columns]>\n",
      "Index(['Name', 'Age', 'Number of Children', 'Physical Activity Level',\n",
      "       'Employment Status', 'Income', 'Alcohol Consumption', 'Dietary Habits',\n",
      "       'Sleep Patterns', 'History of Mental Illness',\n",
      "       'History of Substance Abuse', 'Family History of Depression',\n",
      "       'Chronic Medical Conditions', 'Marital_Married', 'Marital_Single',\n",
      "       'Marital_Widowed', 'Education_Bachelor's Degree',\n",
      "       'Education_High School', 'Education_Master's Degree', 'Education_PhD',\n",
      "       'Smoking_Former', 'Smoking_Non-smoker'],\n",
      "      dtype='object')\n"
     ]
    }
   ],
   "source": [
    "print(data.head)\n",
    "print(data.columns)"
   ]
  },
  {
   "cell_type": "code",
   "execution_count": 67,
   "id": "1639f30c-e56e-49d7-b667-60fa5d07b26d",
   "metadata": {},
   "outputs": [
    {
     "name": "stdout",
     "output_type": "stream",
     "text": [
      "Name                            0\n",
      "Age                             0\n",
      "Number of Children              0\n",
      "Physical Activity Level         0\n",
      "Employment Status               0\n",
      "Income                          0\n",
      "Alcohol Consumption             0\n",
      "Dietary Habits                  0\n",
      "Sleep Patterns                  0\n",
      "History of Mental Illness       0\n",
      "History of Substance Abuse      0\n",
      "Family History of Depression    0\n",
      "Chronic Medical Conditions      0\n",
      "Marital_Married                 0\n",
      "Marital_Single                  0\n",
      "Marital_Widowed                 0\n",
      "Education_Bachelor's Degree     0\n",
      "Education_High School           0\n",
      "Education_Master's Degree       0\n",
      "Education_PhD                   0\n",
      "Smoking_Former                  0\n",
      "Smoking_Non-smoker              0\n",
      "dtype: int64\n"
     ]
    }
   ],
   "source": [
    "print(data.isnull().sum())"
   ]
  },
  {
   "cell_type": "code",
   "execution_count": 68,
   "id": "07c87222-cfa5-46a2-9df5-ddbf418940d4",
   "metadata": {},
   "outputs": [
    {
     "name": "stdout",
     "output_type": "stream",
     "text": [
      "Index(['Name', 'Age', 'Number of Children', 'Physical Activity Level',\n",
      "       'Employment Status', 'Income', 'Alcohol Consumption', 'Dietary Habits',\n",
      "       'Sleep Patterns', 'History of Mental Illness',\n",
      "       'History of Substance Abuse', 'Family History of Depression',\n",
      "       'Chronic Medical Conditions', 'Marital_Married', 'Marital_Single',\n",
      "       'Marital_Widowed', 'Education_Bachelor's Degree',\n",
      "       'Education_High School', 'Education_Master's Degree', 'Education_PhD',\n",
      "       'Smoking_Former', 'Smoking_Non-smoker'],\n",
      "      dtype='object')\n"
     ]
    }
   ],
   "source": [
    "print(data.columns)"
   ]
  },
  {
   "cell_type": "code",
   "execution_count": 70,
   "id": "9d088323-8e4c-47ea-b8fa-a8c9a88da06a",
   "metadata": {},
   "outputs": [],
   "source": [
    "data = data.drop(columns=['Name'])"
   ]
  },
  {
   "cell_type": "code",
   "execution_count": 71,
   "id": "70a297ca-46cb-473e-9477-3c80eab794ce",
   "metadata": {},
   "outputs": [
    {
     "name": "stdout",
     "output_type": "stream",
     "text": [
      "Index(['Age', 'Number of Children', 'Physical Activity Level',\n",
      "       'Employment Status', 'Income', 'Alcohol Consumption', 'Dietary Habits',\n",
      "       'Sleep Patterns', 'History of Mental Illness',\n",
      "       'History of Substance Abuse', 'Family History of Depression',\n",
      "       'Chronic Medical Conditions', 'Marital_Married', 'Marital_Single',\n",
      "       'Marital_Widowed', 'Education_Bachelor's Degree',\n",
      "       'Education_High School', 'Education_Master's Degree', 'Education_PhD',\n",
      "       'Smoking_Former', 'Smoking_Non-smoker'],\n",
      "      dtype='object')\n"
     ]
    }
   ],
   "source": [
    "print(data.columns)"
   ]
  },
  {
   "cell_type": "markdown",
   "id": "eac7581a-a3cb-4202-a7ae-6f6bb42bc375",
   "metadata": {},
   "source": [
    "save the preprocessed data "
   ]
  },
  {
   "cell_type": "code",
   "execution_count": 72,
   "id": "16279a1d-42e5-4f31-9bcb-27f8049048a5",
   "metadata": {},
   "outputs": [],
   "source": [
    "data.to_csv('../data/preprocessed_data.csv', index=False)"
   ]
  },
  {
   "cell_type": "code",
   "execution_count": null,
   "id": "acf0c0af-6568-4975-9093-1c9b6b537e14",
   "metadata": {},
   "outputs": [],
   "source": []
  }
 ],
 "metadata": {
  "kernelspec": {
   "display_name": "Python 3 (ipykernel)",
   "language": "python",
   "name": "python3"
  },
  "language_info": {
   "codemirror_mode": {
    "name": "ipython",
    "version": 3
   },
   "file_extension": ".py",
   "mimetype": "text/x-python",
   "name": "python",
   "nbconvert_exporter": "python",
   "pygments_lexer": "ipython3",
   "version": "3.12.2"
  },
  "widgets": {
   "application/vnd.jupyter.widget-state+json": {
    "state": {},
    "version_major": 2,
    "version_minor": 0
   }
  }
 },
 "nbformat": 4,
 "nbformat_minor": 5
}
